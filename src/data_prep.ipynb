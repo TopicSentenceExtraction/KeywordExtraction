{
 "metadata": {
  "language_info": {
   "codemirror_mode": {
    "name": "ipython",
    "version": 3
   },
   "file_extension": ".py",
   "mimetype": "text/x-python",
   "name": "python",
   "nbconvert_exporter": "python",
   "pygments_lexer": "ipython3",
   "version": "3.7.5"
  },
  "orig_nbformat": 2,
  "kernelspec": {
   "name": "python375jvsc74a57bd0ab77c411208d9b4312bf5a9aa8cd23e7167607179184dc044c37d4e22569326c",
   "display_name": "Python 3.7.5 64-bit ('pytorch': conda)"
  }
 },
 "nbformat": 4,
 "nbformat_minor": 2,
 "cells": [
  {
   "source": [
    "# Data Preparation"
   ],
   "cell_type": "markdown",
   "metadata": {}
  },
  {
   "cell_type": "code",
   "execution_count": 1,
   "metadata": {},
   "outputs": [],
   "source": [
    "import time\n",
    "import json\n",
    "import pandas as pd\n",
    "from rake_nltk import Rake\n",
    "from nltk.stem.wordnet import WordNetLemmatizer\n",
    "from nltk.corpus import stopwords\n",
    "from nltk.tokenize import punkt"
   ]
  },
  {
   "cell_type": "code",
   "execution_count": 2,
   "metadata": {},
   "outputs": [],
   "source": [
    "# a decorator for calculating function run time\n",
    "import time\n",
    "def print_run_time(func):\n",
    "    def wrapper(*args, **kwargs):\n",
    "        start_time = time.time()\n",
    "        back = func(*args, **kwargs)\n",
    "        print('Function [%s] run time is %.2fs' % (func.__name__ , time.time() - start_time))\n",
    "        return back\n",
    "    return wrapper"
   ]
  },
  {
   "cell_type": "code",
   "execution_count": 3,
   "metadata": {},
   "outputs": [],
   "source": [
    "def get_metadata(file_path):\n",
    "    with open(file_path) as f:\n",
    "        for line in f:\n",
    "            yield line"
   ]
  },
  {
   "cell_type": "code",
   "execution_count": 4,
   "metadata": {},
   "outputs": [],
   "source": [
    "def print_variable_names(metadata):\n",
    "    for paper in metadata:\n",
    "        first_paper = json.loads(paper)\n",
    "        break\n",
    "\n",
    "    print(\"We have the following variables in each record(one paper):\")\n",
    "    for key in first_paper:\n",
    "        print(key)"
   ]
  },
  {
   "cell_type": "code",
   "execution_count": 5,
   "metadata": {},
   "outputs": [],
   "source": [
    "def extract_keywords(r, text):\n",
    "    r.extract_keywords_from_text(text)\n",
    "    ranked_phrases = r.get_ranked_phrases_with_scores()\n",
    "    keywords = []\n",
    "    i = 1\n",
    "    for i, (score, keyword) in enumerate(ranked_phrases):\n",
    "        if i >= 10 or score <= 1:\n",
    "            break\n",
    "        keywords.append(keyword)\n",
    "    return keywords"
   ]
  },
  {
   "cell_type": "code",
   "execution_count": 20,
   "metadata": {},
   "outputs": [],
   "source": [
    "@print_run_time\n",
    "def generate_data_json(metadata):\n",
    "    titles = []\n",
    "    abstracts = []\n",
    "    keywords = []\n",
    "    total_items = 0\n",
    "    r = Rake(\n",
    "        # stopwords=stopwords,\n",
    "        # punctuations=punkt,\n",
    "        # min_length=1, \n",
    "        max_length=2)\n",
    "    wnl = WordNetLemmatizer()\n",
    "    for paper in metadata:\n",
    "        paper = json.loads(paper)\n",
    "        total_items += 1\n",
    "        # replace \\n with space\n",
    "        titles.append(paper['title'].replace('\\n', ' '))\n",
    "        # get abstract and its corresponding keywords\n",
    "        abstract = paper['abstract'].replace('\\n', ' ')\n",
    "        abstracts.append(abstract)\n",
    "        keywords.append(extract_keywords(r, abstract))\n",
    "    print(f'Total number of items is: {total_items}')\n",
    "\n",
    "    d = {\n",
    "        'title': titles,\n",
    "        'abstract': abstracts,\n",
    "        'keywords': keywords\n",
    "    }\n",
    "\n",
    "    return d"
   ]
  },
  {
   "cell_type": "code",
   "execution_count": 21,
   "metadata": {},
   "outputs": [
    {
     "output_type": "stream",
     "name": "stdout",
     "text": [
      "metadata loaded ready\n",
      "Total number of items is: 1796911\n",
      "Function [generate_data_json] run time is 728.74s\n"
     ]
    }
   ],
   "source": [
    "metadata = get_metadata('../data/arxiv-metadata-oai-snapshot.json')\n",
    "print('metadata loaded ready')\n",
    "dataset = generate_data_json(metadata)"
   ]
  },
  {
   "cell_type": "code",
   "execution_count": 22,
   "metadata": {},
   "outputs": [],
   "source": [
    "df = pd.DataFrame(dataset)"
   ]
  },
  {
   "cell_type": "code",
   "execution_count": 27,
   "metadata": {},
   "outputs": [
    {
     "output_type": "execute_result",
     "data": {
      "text/plain": [
       "\"  The evolution of Earth-Moon system is described by the dark matter field fluid model proposed in the Meeting of Division of Particle and Field 2004, American Physical Society. The current behavior of the Earth-Moon system agrees with this model very well and the general pattern of the evolution of the Moon-Earth system described by this model agrees with geological and fossil evidence. The closest distance of the Moon to Earth was about 259000 km at 4.5 billion years ago, which is far beyond the Roche's limit. The result suggests that the tidal friction may not be the primary cause for the evolution of the Earth-Moon system. The average dark matter field fluid constant derived from Earth-Moon system data is 4.39 x 10^(-22) s^(-1)m^(-1). This model predicts that the Mars's rotation is also slowing with the angular acceleration rate about -4.38 x 10^(-22) rad s^(-2). \""
      ]
     },
     "metadata": {},
     "execution_count": 27
    }
   ],
   "source": [
    "df.iloc[2]['abstract']"
   ]
  },
  {
   "cell_type": "code",
   "execution_count": 31,
   "metadata": {},
   "outputs": [
    {
     "output_type": "execute_result",
     "data": {
      "text/plain": [
       "[(1.0, 'well'),\n",
       " (1.0, 'rotation'),\n",
       " (1.0, 'roche'),\n",
       " (1.0, 'rad'),\n",
       " (1.0, 'particle'),\n",
       " (1.0, 'moon'),\n",
       " (1.0, 'model'),\n",
       " (1.0, 'meeting'),\n",
       " (1.0, 'mars'),\n",
       " (1.0, 'limit'),\n",
       " (1.0, 'geological'),\n",
       " (1.0, 'evolution'),\n",
       " (1.0, 'earth'),\n",
       " (1.0, 'division'),\n",
       " (1.0, 'described'),\n",
       " (1.0, '4')]"
      ]
     },
     "metadata": {},
     "execution_count": 31
    }
   ],
   "source": [
    "text = \"\"\"The evolution of Earth-Moon system is described by the dark matter field fluid model proposed in the Meeting of Division of Particle and Field 2004, American Physical Society. The current behavior of the Earth-Moon system agrees with this model very well and the general pattern of the evolution of the Moon-Earth system described by this model agrees with geological and fossil evidence. The closest distance of the Moon to Earth was about 259000 km at 4.5 billion years ago, which is far beyond the Roche's limit. The result suggests that the tidal friction may not be the primary cause for the evolution of the Earth-Moon system. The average dark matter field fluid constant derived from Earth-Moon system data is 4.39 x 10^(-22) s^(-1)m^(-1). This model predicts that the Mars's rotation is also slowing with the angular acceleration rate about -4.38 x 10^(-22) rad s^(-2).\"\"\"\n",
    "r = Rake(max_length=1)\n",
    "r.extract_keywords_from_text(text)\n",
    "r.get_ranked_phrases_with_scores()"
   ]
  },
  {
   "cell_type": "code",
   "execution_count": null,
   "metadata": {},
   "outputs": [],
   "source": []
  },
  {
   "cell_type": "code",
   "execution_count": 18,
   "metadata": {},
   "outputs": [],
   "source": [
    "from sklearn.model_selection import train_test_split\n",
    "train, test = train_test_split(df, test_size=0.2)"
   ]
  },
  {
   "cell_type": "code",
   "execution_count": 33,
   "metadata": {},
   "outputs": [],
   "source": [
    "\n",
    "for head in ['title','abstract','keyword']:\n",
    "    train[head].to_csv('../data/train/%s.txt'%head, index=False)"
   ]
  },
  {
   "cell_type": "code",
   "execution_count": 34,
   "metadata": {},
   "outputs": [],
   "source": [
    "for head in ['title','abstract','keyword']:\n",
    "    test[head].to_csv('../data/test/%s.txt'%head, index=False)"
   ]
  },
  {
   "cell_type": "code",
   "execution_count": null,
   "metadata": {},
   "outputs": [],
   "source": []
  }
 ]
}